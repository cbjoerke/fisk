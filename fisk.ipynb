{
 "cells": [
  {
   "cell_type": "markdown",
   "metadata": {},
   "source": [
    "## Biomass statistics per production level\n",
    "\n",
    "Data from [Fiskeridirektoratet](https://www.fiskeridir.no/Akvakultur/Tall-og-analyse/Biomassestatistikk/Biomassestatistikk-etter-produksjonsomraade)"
   ]
  },
  {
   "cell_type": "markdown",
   "metadata": {},
   "source": [
    "### 1. Importing data"
   ]
  },
  {
   "cell_type": "code",
   "execution_count": 1,
   "metadata": {},
   "outputs": [],
   "source": [
    "import pandas as pd\n",
    "import json\n",
    "import matplotlib.pyplot as plt\n",
    "from helpers.dicts import traffic_light\n",
    "import seaborn as sns\n",
    "import matplotlib.dates as mdates\n",
    "from matplotlib.ticker import ScalarFormatter\n",
    "import scipy as sp\n",
    "pd.set_option('display.float_format', '{:.6f}'.format)"
   ]
  },
  {
   "cell_type": "code",
   "execution_count": null,
   "metadata": {},
   "outputs": [],
   "source": [
    "with open(\"input/biomasse.json\", \"r\") as f:\n",
    "    data = json.load(f)\n",
    "\n",
    "df = pd.DataFrame(data[\"Data\"])\n",
    "\n",
    "df"
   ]
  },
  {
   "cell_type": "markdown",
   "metadata": {},
   "source": [
    "### 2. Cleaning data\n",
    "\n",
    "* Standardization: Round \"BIOMASSE_KG\" to integer\n",
    "* Merge: \"TRAFFIC_LIGHTS\" based on helpers/dicts.py\n",
    "* Define \"DATO\" as a datetime\n",
    "* Sum \"UTSETTSÅR\"\n",
    "* Remove 2024\n",
    "* Remove rainbow trout"
   ]
  },
  {
   "cell_type": "code",
   "execution_count": null,
   "metadata": {},
   "outputs": [],
   "source": [
    "df[\"BIOMASSE_KG\"] = df[\"BIOMASSE_KG\"].round().astype(int)\n",
    "df[\"TRAFFIC_LIGHT\"] = df[\"PO_KODE\"].map(lambda x: traffic_light.get(x, {}).get(\"light\"))\n",
    "df[\"DATO\"] = pd.to_datetime(df[\"ÅR\"].astype(str) + \"-\" + df[\"MÅNED_KODE\"].astype(str))\n",
    "clean_df = df.groupby([\"DATO\", \"PO_KODE\", \"PO_NAVN\", \"ARTSID\", \"TRAFFIC_LIGHT\"]).agg({\"BEHFISK_STK\": \"sum\", \"BIOMASSE_KG\": \"sum\"}).reset_index()\n",
    "clean_df = clean_df[(clean_df[\"DATO\"].dt.year != 2024) & (clean_df[\"DATO\"].dt.year != 2017)]\n",
    "clean_df = clean_df[clean_df[\"ARTSID\"] == \"LAKS\"]\n",
    "#clean_df.to_csv(\"fisk_cleaned_data.csv\")\n",
    "clean_df"
   ]
  },
  {
   "cell_type": "markdown",
   "metadata": {},
   "source": [
    "### 3. Functions\n",
    "\n",
    "* montly_laks: Takes the argument \"red\", \"yellow\" or \"green\" and returns a dataframe with the locations that matches the color. \n",
    "* pval: Computes the pvalue and slope for each location area and return a dataframe.\n",
    "* dato_formatter: Calculates the unix timestamp back to readable date format."
   ]
  },
  {
   "cell_type": "code",
   "execution_count": null,
   "metadata": {},
   "outputs": [],
   "source": [
    "def monthly_laks(df, color):\n",
    "    laks_df = df[(df[\"TRAFFIC_LIGHT\"] == color) & (df['ARTSID'] == \"LAKS\")].copy()\n",
    "    laks_df[\"DATO\"] = pd.to_datetime(laks_df[\"DATO\"])\n",
    "    return laks_df\n",
    "\n",
    "def pval(data):\n",
    "    pval_rows = []\n",
    "    for name in data[\"PO_NAVN\"].unique():\n",
    "        data_temp = data.query(\"PO_NAVN==@name\")\n",
    "        r, p = sp.stats.pearsonr(data_temp[\"DATO\"], data_temp[\"BIOMASSE_KG\"])\n",
    "        pval_rows.append({\"name\": name, \"pvalue\": p, \"slope\": r})\n",
    "    df_pvalue = pd.DataFrame(pval_rows)\n",
    "    return df_pvalue\n",
    "\n",
    "def dato_formatter():\n",
    "    plt.gca().xaxis.set_major_formatter(mdates.DateFormatter('%Y-%m-%d'))\n",
    "    plt.gca().xaxis.set_major_locator(mdates.AutoDateLocator())\n",
    "    plt.gcf().autofmt_xdate()\n",
    "    return None"
   ]
  },
  {
   "cell_type": "markdown",
   "metadata": {},
   "source": [
    "### 4. Processing data"
   ]
  },
  {
   "cell_type": "markdown",
   "metadata": {},
   "source": [
    "##### 4.1 Histogram of biomass"
   ]
  },
  {
   "cell_type": "code",
   "execution_count": null,
   "metadata": {},
   "outputs": [],
   "source": [
    "plt.figure(figsize=(8, 4))\n",
    "clean_df[\"BIOMASSE_KG\"].plot.hist(bins=50, color=\"skyblue\", edgecolor=\"black\")\n",
    "plt.title(\"Distribution of biomass (kg)\", fontsize=15)\n",
    "plt.xlabel(\"Biomass in kg\", fontsize=12)\n",
    "plt.ylabel(\"Frequency\", fontsize=12)\n",
    "plt.grid(True)\n",
    "plt.show()"
   ]
  },
  {
   "cell_type": "markdown",
   "metadata": {},
   "source": [
    "##### 4.2 Statistical numbers"
   ]
  },
  {
   "cell_type": "code",
   "execution_count": null,
   "metadata": {},
   "outputs": [],
   "source": [
    "green = monthly_laks(clean_df, \"green\")[\"BIOMASSE_KG\"].describe().round().astype(int)\n",
    "yellow = monthly_laks(clean_df, \"yellow\")[\"BIOMASSE_KG\"].describe().round().astype(int)\n",
    "red = monthly_laks(clean_df, \"red\")[\"BIOMASSE_KG\"].describe().round().astype(int)\n",
    "\n",
    "describe = pd.concat([green, yellow, red], axis=1, join=\"inner\")\n",
    "describe.columns = [\"Green\", \"Yellow\", \"Red\"]\n",
    "describe"
   ]
  },
  {
   "cell_type": "markdown",
   "metadata": {},
   "source": [
    "##### 4.3 Line plot of red area"
   ]
  },
  {
   "cell_type": "code",
   "execution_count": null,
   "metadata": {},
   "outputs": [],
   "source": [
    "laks_line = monthly_laks(clean_df, \"red\")\n",
    "lineplot = sns.lineplot(data=laks_line, x='DATO', y='BIOMASSE_KG', hue='PO_NAVN', marker='o')\n",
    "plt.xticks(rotation=45)\n",
    "plt.title(\"Biomasse over time by location name\")\n",
    "plt.xlabel(\"Date\")\n",
    "plt.ylabel(\"Biomasse (kg)\")\n",
    "plt.legend(title=\"PO_NAVN\")\n",
    "plt.tight_layout()\n",
    "plt.show()"
   ]
  },
  {
   "cell_type": "markdown",
   "metadata": {},
   "source": [
    "### 5. Results"
   ]
  },
  {
   "cell_type": "markdown",
   "metadata": {},
   "source": [
    "##### 5.1 Green areas"
   ]
  },
  {
   "cell_type": "code",
   "execution_count": null,
   "metadata": {},
   "outputs": [],
   "source": [
    "laks_green = monthly_laks(clean_df, \"green\")\n",
    "laks_green['DATO'] = mdates.date2num(laks_green['DATO'])\n",
    "laks = sns.lmplot(data=laks_green, x=\"DATO\", y=\"BIOMASSE_KG\", hue=\"PO_NAVN\", aspect=2)\n",
    "dato_formatter()\n",
    "plt.show()"
   ]
  },
  {
   "cell_type": "markdown",
   "metadata": {},
   "source": [
    "##### 5.2 Yellow areas"
   ]
  },
  {
   "cell_type": "code",
   "execution_count": null,
   "metadata": {},
   "outputs": [],
   "source": [
    "laks_yellow = monthly_laks(clean_df, \"yellow\")\n",
    "laks_yellow['DATO'] = mdates.date2num(laks_yellow['DATO'])\n",
    "laks = sns.lmplot(data=laks_yellow, x=\"DATO\", y=\"BIOMASSE_KG\", hue=\"PO_NAVN\", aspect=2)\n",
    "dato_formatter()\n",
    "plt.show()"
   ]
  },
  {
   "cell_type": "markdown",
   "metadata": {},
   "source": [
    "##### 5.3 Red areas"
   ]
  },
  {
   "cell_type": "code",
   "execution_count": null,
   "metadata": {},
   "outputs": [],
   "source": [
    "laks_red = monthly_laks(clean_df, \"red\")\n",
    "laks_red['DATO'] = mdates.date2num(laks_red['DATO'])\n",
    "laks = sns.lmplot(data=laks_red, x=\"DATO\", y=\"BIOMASSE_KG\", hue=\"PO_NAVN\", aspect=2)\n",
    "dato_formatter()\n",
    "plt.show()"
   ]
  },
  {
   "cell_type": "markdown",
   "metadata": {},
   "source": [
    "##### 5.4 P-values and slope values"
   ]
  },
  {
   "cell_type": "code",
   "execution_count": null,
   "metadata": {},
   "outputs": [],
   "source": [
    "pvalue_green = pval(laks_green).round(6)\n",
    "pvalue_yellow = pval(laks_yellow).round(6)\n",
    "pvalue_red = pval(laks_red).round(6)\n",
    "pvalue_green[\"color\"] = \"green\"\n",
    "pvalue_yellow[\"color\"] = \"yellow\"\n",
    "pvalue_red[\"color\"] = \"red\"\n",
    "pvalues = pd.concat([pvalue_green, pvalue_yellow, pvalue_red]).reset_index(drop=True)\n",
    "pvalues "
   ]
  }
 ],
 "metadata": {
  "kernelspec": {
   "display_name": "env",
   "language": "python",
   "name": "python3"
  },
  "language_info": {
   "codemirror_mode": {
    "name": "ipython",
    "version": 3
   },
   "file_extension": ".py",
   "mimetype": "text/x-python",
   "name": "python",
   "nbconvert_exporter": "python",
   "pygments_lexer": "ipython3",
   "version": "3.11.0"
  }
 },
 "nbformat": 4,
 "nbformat_minor": 2
}
